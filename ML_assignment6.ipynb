{
  "nbformat": 4,
  "nbformat_minor": 0,
  "metadata": {
    "colab": {
      "provenance": [],
      "collapsed_sections": [],
      "include_colab_link": true
    },
    "kernelspec": {
      "name": "python3",
      "display_name": "Python 3"
    },
    "language_info": {
      "name": "python"
    },
    "accelerator": "GPU"
  },
  "cells": [
    {
      "cell_type": "markdown",
      "metadata": {
        "id": "view-in-github",
        "colab_type": "text"
      },
      "source": [
        "<a href=\"https://colab.research.google.com/github/yaya1721/ML-spring22/blob/main/ML_assignment6.ipynb\" target=\"_parent\"><img src=\"https://colab.research.google.com/assets/colab-badge.svg\" alt=\"Open In Colab\"/></a>"
      ]
    },
    {
      "cell_type": "markdown",
      "source": [
        "# Machine Learning Assignment 6\n",
        "Dania Herzalla dh2741 <br>\n",
        "Long Phan lvp243 <br>\n",
        "Sonya Hsieh yh3529 <br>\n"
      ],
      "metadata": {
        "id": "5FDjP2Z-LoXp"
      }
    },
    {
      "cell_type": "markdown",
      "source": [
        "## Problem 1\n",
        "RNN for sentiment analysis, using data from IMDB"
      ],
      "metadata": {
        "id": "hnHoCctyMHCc"
      }
    },
    {
      "cell_type": "code",
      "source": [
        "from keras.models import Sequential\n",
        "from keras.layers import Embedding, Flatten, Dense, SimpleRNN,\\\n",
        "     LSTM, GRU, Conv1D, MaxPooling1D, GlobalMaxPooling1D\n",
        "from keras.datasets import imdb\n",
        "from keras.preprocessing import sequence\n",
        "import matplotlib.pyplot as plt\n",
        "\n",
        "top_words = 5000\n",
        "max_review_length = 500\n",
        "embedding_vector_length = 32\n",
        "\n",
        "(X_train, y_train), (X_test, y_test)\\\n",
        "        = imdb.load_data(num_words=top_words)\n",
        "\n",
        "X_train = sequence.pad_sequences(X_train, maxlen=max_review_length)\n",
        "X_test = sequence.pad_sequences(X_test, maxlen=max_review_length)\n",
        "\n",
        "print()\n",
        "print('X_train shape:', X_train.shape, 'X_test shape:', X_test.shape)\n",
        "print('y_train shape:', y_train.shape, 'y_test shape', y_test.shape)"
      ],
      "metadata": {
        "colab": {
          "base_uri": "https://localhost:8080/"
        },
        "id": "M0OUKijrMVZE",
        "outputId": "d74636cf-f0be-4189-92ea-a82a69e83751"
      },
      "execution_count": null,
      "outputs": [
        {
          "output_type": "stream",
          "name": "stdout",
          "text": [
            "Downloading data from https://storage.googleapis.com/tensorflow/tf-keras-datasets/imdb.npz\n",
            "17465344/17464789 [==============================] - 0s 0us/step\n",
            "17473536/17464789 [==============================] - 0s 0us/step\n",
            "\n",
            "X_train shape: (25000, 500) X_test shape: (25000, 500)\n",
            "y_train shape: (25000,) y_test shape (25000,)\n"
          ]
        }
      ]
    },
    {
      "cell_type": "code",
      "source": [
        "model = Sequential()\n",
        "model.add(Embedding(top_words, embedding_vector_length, input_length=max_review_length))\n",
        "model.add(SimpleRNN(32))\n",
        "model.add(Dense(1, activation='sigmoid'))\n",
        "model.summary()\n",
        "\n",
        "model.compile(optimizer='rmsprop', loss='binary_crossentropy', metrics=['acc'])\n",
        "history = model.fit(X_train, y_train, epochs=10,\\\n",
        "                    batch_size=128, validation_split=0.2)"
      ],
      "metadata": {
        "colab": {
          "base_uri": "https://localhost:8080/"
        },
        "id": "y4f2wAKDMeUL",
        "outputId": "fa49a709-17e8-42ec-f845-ce250107594e"
      },
      "execution_count": null,
      "outputs": [
        {
          "output_type": "stream",
          "name": "stdout",
          "text": [
            "Model: \"sequential_19\"\n",
            "_________________________________________________________________\n",
            " Layer (type)                Output Shape              Param #   \n",
            "=================================================================\n",
            " embedding (Embedding)       (None, 500, 32)           160000    \n",
            "                                                                 \n",
            " simple_rnn (SimpleRNN)      (None, 32)                2080      \n",
            "                                                                 \n",
            " dense_19 (Dense)            (None, 1)                 33        \n",
            "                                                                 \n",
            "=================================================================\n",
            "Total params: 162,113\n",
            "Trainable params: 162,113\n",
            "Non-trainable params: 0\n",
            "_________________________________________________________________\n",
            "Epoch 1/10\n",
            "157/157 [==============================] - 76s 471ms/step - loss: 0.5705 - acc: 0.6959 - val_loss: 0.4401 - val_acc: 0.8082\n",
            "Epoch 2/10\n",
            "157/157 [==============================] - 74s 469ms/step - loss: 0.3838 - acc: 0.8388 - val_loss: 0.3958 - val_acc: 0.8264\n",
            "Epoch 3/10\n",
            "157/157 [==============================] - 72s 462ms/step - loss: 0.3126 - acc: 0.8745 - val_loss: 0.3463 - val_acc: 0.8562\n",
            "Epoch 4/10\n",
            "157/157 [==============================] - 74s 470ms/step - loss: 0.2680 - acc: 0.8931 - val_loss: 0.3410 - val_acc: 0.8562\n",
            "Epoch 5/10\n",
            "157/157 [==============================] - 73s 465ms/step - loss: 0.2315 - acc: 0.9105 - val_loss: 0.3721 - val_acc: 0.8642\n",
            "Epoch 6/10\n",
            "157/157 [==============================] - 73s 466ms/step - loss: 0.1929 - acc: 0.9279 - val_loss: 0.3660 - val_acc: 0.8536\n",
            "Epoch 7/10\n",
            "157/157 [==============================] - 73s 465ms/step - loss: 0.1550 - acc: 0.9443 - val_loss: 0.3948 - val_acc: 0.8582\n",
            "Epoch 8/10\n",
            "157/157 [==============================] - 73s 466ms/step - loss: 0.1205 - acc: 0.9574 - val_loss: 0.4294 - val_acc: 0.8480\n",
            "Epoch 9/10\n",
            "157/157 [==============================] - 73s 464ms/step - loss: 0.0910 - acc: 0.9686 - val_loss: 0.4545 - val_acc: 0.8374\n",
            "Epoch 10/10\n",
            "157/157 [==============================] - 72s 460ms/step - loss: 0.0746 - acc: 0.9762 - val_loss: 0.7155 - val_acc: 0.7552\n"
          ]
        }
      ]
    },
    {
      "cell_type": "code",
      "source": [
        "acc = history.history['acc']\n",
        "val_acc = history.history['val_acc']\n",
        "epochs = range(1, len(acc) + 1)\n",
        "plt.plot(epochs, acc, 'b', label='Training accuracy')\n",
        "plt.plot(epochs, val_acc, 'r', label='Validation accuracy')\n",
        "plt.title(\"Training/Validation Loss and Accuracy of simpleRNN\")\n",
        "plt.legend()\n",
        "plt.show()\n",
        "\n",
        "score = model.evaluate(X_test, y_test)\n",
        "print(f'Test loss: {score[0]} / Test accuracy: {score[1]}')"
      ],
      "metadata": {
        "colab": {
          "base_uri": "https://localhost:8080/",
          "height": 317
        },
        "id": "dYWhOVLJMfFN",
        "outputId": "64aa548a-f05f-49b5-bed1-801d1ce2fc47"
      },
      "execution_count": null,
      "outputs": [
        {
          "output_type": "display_data",
          "data": {
            "text/plain": [
              "<Figure size 432x288 with 1 Axes>"
            ],
            "image/png": "[encoded data removed]"
          },
          "metadata": {
            "needs_background": "light"
          }
        },
        {
          "output_type": "stream",
          "name": "stdout",
          "text": [
            "782/782 [==============================] - 29s 38ms/step - loss: 0.7142 - acc: 0.7500\n",
            "Test loss: 0.7141894698143005 / Test accuracy: 0.75\n"
          ]
        }
      ]
    },
    {
      "cell_type": "markdown",
      "source": [
        "\n",
        "\n",
        "\n",
        "**Part 1** <br>\n",
        "Embeddings allow us to present words within a context in a dense representation vector of float values, which can result in similar vectors (i.e. similar endodings) for words with similar contexts -> meanings). The vector values and the value for the word embedding are determined through adjustable weights determined through training. \n",
        "\n",
        "**Part 2** \n",
        "\n",
        "\n",
        "*   The output of the Embedding layer is a 3D tensor (batch, input_length, largest integer(word index))\n",
        "*   Keras SimpleRNN expects an input of 3D tensor (batch, num_timesteps, num_features).\n",
        "*   Flatten() flattens the input, but it does not affect the batch size. If inputs are shaped (batch,) without a feature axis, then flattening adds an extra channel dimension and output shape is (batch, 1). \n",
        "\n",
        "According to the above information, Flatten layer is not required.  \n",
        "\n",
        "\n",
        "**Part 3** <br>\n",
        "Replace the SimpleRNN layer by an LSTM layer or a GRU\n",
        "layer with the same number of units and retrain the model <br>\n",
        "\n",
        "Both LSTM and GRU (see below) increase the validation accuracy of model by morethan 0.1 (from 0.75 to 0.86). LSTM has the best performance with the highest training and validation scores among the three and SimpleRNN (above) tends to overfit as epoch increases. \n",
        "\n"
      ],
      "metadata": {
        "id": "LKUKAEsnP0Zz"
      }
    },
    {
      "cell_type": "markdown",
      "source": [
        "**GRU**"
      ],
      "metadata": {
        "id": "24q_vMcr4c4b"
      }
    },
    {
      "cell_type": "code",
      "source": [
        "modelGRU = Sequential()\n",
        "modelGRU.add(Embedding(top_words, embedding_vector_length, input_length=max_review_length))\n",
        "modelGRU.add(GRU(32))\n",
        "modelGRU.add(Dense(1, activation='sigmoid'))\n",
        "modelGRU.summary()\n",
        "\n",
        "modelGRU.compile(optimizer='rmsprop', loss='binary_crossentropy', metrics=['acc'])\n",
        "h2 = modelGRU.fit(X_train, y_train, epochs=10,\\\n",
        "                    batch_size=128, validation_split=0.2)\n",
        "\n"
      ],
      "metadata": {
        "id": "ITb68je04GxJ",
        "colab": {
          "base_uri": "https://localhost:8080/"
        },
        "outputId": "99bec6a3-0f2b-4625-efd8-ca44cffccabd"
      },
      "execution_count": null,
      "outputs": [
        {
          "output_type": "stream",
          "name": "stdout",
          "text": [
            "Model: \"sequential_20\"\n",
            "_________________________________________________________________\n",
            " Layer (type)                Output Shape              Param #   \n",
            "=================================================================\n",
            " embedding_1 (Embedding)     (None, 500, 32)           160000    \n",
            "                                                                 \n",
            " gru (GRU)                   (None, 32)                6336      \n",
            "                                                                 \n",
            " dense_20 (Dense)            (None, 1)                 33        \n",
            "                                                                 \n",
            "=================================================================\n",
            "Total params: 166,369\n",
            "Trainable params: 166,369\n",
            "Non-trainable params: 0\n",
            "_________________________________________________________________\n",
            "Epoch 1/10\n",
            "157/157 [==============================] - 5s 23ms/step - loss: 0.5281 - acc: 0.7281 - val_loss: 0.3587 - val_acc: 0.8452\n",
            "Epoch 2/10\n",
            "157/157 [==============================] - 3s 21ms/step - loss: 0.3514 - acc: 0.8581 - val_loss: 0.3341 - val_acc: 0.8642\n",
            "Epoch 3/10\n",
            "157/157 [==============================] - 3s 20ms/step - loss: 0.2870 - acc: 0.8839 - val_loss: 0.3748 - val_acc: 0.8302\n",
            "Epoch 4/10\n",
            "157/157 [==============================] - 3s 20ms/step - loss: 0.2623 - acc: 0.8970 - val_loss: 0.4306 - val_acc: 0.8366\n",
            "Epoch 5/10\n",
            "157/157 [==============================] - 3s 20ms/step - loss: 0.2424 - acc: 0.9068 - val_loss: 0.3107 - val_acc: 0.8736\n",
            "Epoch 6/10\n",
            "157/157 [==============================] - 3s 20ms/step - loss: 0.2275 - acc: 0.9112 - val_loss: 0.3166 - val_acc: 0.8760\n",
            "Epoch 7/10\n",
            "157/157 [==============================] - 3s 20ms/step - loss: 0.2175 - acc: 0.9186 - val_loss: 0.3944 - val_acc: 0.8338\n",
            "Epoch 8/10\n",
            "157/157 [==============================] - 3s 20ms/step - loss: 0.2045 - acc: 0.9226 - val_loss: 0.3082 - val_acc: 0.8760\n",
            "Epoch 9/10\n",
            "157/157 [==============================] - 3s 20ms/step - loss: 0.1952 - acc: 0.9270 - val_loss: 0.3062 - val_acc: 0.8754\n",
            "Epoch 10/10\n",
            "157/157 [==============================] - 3s 20ms/step - loss: 0.1857 - acc: 0.9308 - val_loss: 0.3115 - val_acc: 0.8712\n"
          ]
        }
      ]
    },
    {
      "cell_type": "code",
      "source": [
        "acc = h2.history['acc']\n",
        "val_acc = h2.history['val_acc']\n",
        "epochs = range(1, len(acc) + 1)\n",
        "plt.plot(epochs, acc, 'b', label='Training accuracy')\n",
        "plt.plot(epochs, val_acc, 'r', label='Validation accuracy')\n",
        "plt.title(\"Training/Validation Loss and Accuracy of GRU\")\n",
        "plt.legend()\n",
        "plt.show()\n",
        "\n",
        "score = modelGRU.evaluate(X_test, y_test)\n",
        "print(f'Test loss: {score[0]} / Test accuracy: {score[1]}')"
      ],
      "metadata": {
        "id": "bi5rk3x_4bzI",
        "colab": {
          "base_uri": "https://localhost:8080/",
          "height": 317
        },
        "outputId": "de79e281-fe96-494d-b08e-0b8aaa2f9826"
      },
      "execution_count": null,
      "outputs": [
        {
          "output_type": "display_data",
          "data": {
            "text/plain": [
              "<Figure size 432x288 with 1 Axes>"
            ],
            "image/png": "[encoded data removed]"
          },
          "metadata": {
            "needs_background": "light"
          }
        },
        {
          "output_type": "stream",
          "name": "stdout",
          "text": [
            "782/782 [==============================] - 7s 8ms/step - loss: 0.3303 - acc: 0.8659\n",
            "Test loss: 0.3302737772464752 / Test accuracy: 0.865880012512207\n"
          ]
        }
      ]
    },
    {
      "cell_type": "markdown",
      "source": [
        "**LSTM**"
      ],
      "metadata": {
        "id": "eJhAFl8B4g3p"
      }
    },
    {
      "cell_type": "code",
      "source": [
        "modelLSTM = Sequential()\n",
        "modelLSTM.add(Embedding(top_words, embedding_vector_length, input_length=max_review_length))\n",
        "modelLSTM.add(LSTM(32))\n",
        "modelLSTM.add(Dense(1, activation='sigmoid'))\n",
        "modelLSTM.summary()\n",
        "\n",
        "modelLSTM.compile(optimizer='rmsprop', loss='binary_crossentropy', metrics=['acc'])\n",
        "h3 = modelLSTM.fit(X_train, y_train, epochs=10,\\\n",
        "                    batch_size=128, validation_split=0.2)\n",
        "\n"
      ],
      "metadata": {
        "id": "zf11wnLI4i4U",
        "colab": {
          "base_uri": "https://localhost:8080/"
        },
        "outputId": "7a158cc6-1b01-44e1-d6a7-0f9eb1322b43"
      },
      "execution_count": null,
      "outputs": [
        {
          "output_type": "stream",
          "name": "stdout",
          "text": [
            "Model: \"sequential_21\"\n",
            "_________________________________________________________________\n",
            " Layer (type)                Output Shape              Param #   \n",
            "=================================================================\n",
            " embedding_2 (Embedding)     (None, 500, 32)           160000    \n",
            "                                                                 \n",
            " lstm_48 (LSTM)              (None, 32)                8320      \n",
            "                                                                 \n",
            " dense_21 (Dense)            (None, 1)                 33        \n",
            "                                                                 \n",
            "=================================================================\n",
            "Total params: 168,353\n",
            "Trainable params: 168,353\n",
            "Non-trainable params: 0\n",
            "_________________________________________________________________\n",
            "Epoch 1/10\n",
            "157/157 [==============================] - 5s 24ms/step - loss: 0.5470 - acc: 0.7408 - val_loss: 0.4483 - val_acc: 0.7894\n",
            "Epoch 2/10\n",
            "157/157 [==============================] - 4s 23ms/step - loss: 0.3423 - acc: 0.8612 - val_loss: 0.3247 - val_acc: 0.8616\n",
            "Epoch 3/10\n",
            "157/157 [==============================] - 3s 21ms/step - loss: 0.2733 - acc: 0.8953 - val_loss: 0.3603 - val_acc: 0.8614\n",
            "Epoch 4/10\n",
            "157/157 [==============================] - 3s 22ms/step - loss: 0.2433 - acc: 0.9070 - val_loss: 0.2846 - val_acc: 0.8828\n",
            "Epoch 5/10\n",
            "157/157 [==============================] - 4s 22ms/step - loss: 0.2236 - acc: 0.9154 - val_loss: 0.3267 - val_acc: 0.8806\n",
            "Epoch 6/10\n",
            "157/157 [==============================] - 3s 20ms/step - loss: 0.2054 - acc: 0.9230 - val_loss: 0.2881 - val_acc: 0.8792\n",
            "Epoch 7/10\n",
            "157/157 [==============================] - 3s 21ms/step - loss: 0.1897 - acc: 0.9279 - val_loss: 0.2924 - val_acc: 0.8796\n",
            "Epoch 8/10\n",
            "157/157 [==============================] - 4s 27ms/step - loss: 0.1783 - acc: 0.9341 - val_loss: 0.4285 - val_acc: 0.8304\n",
            "Epoch 9/10\n",
            "157/157 [==============================] - 3s 20ms/step - loss: 0.1679 - acc: 0.9386 - val_loss: 0.3409 - val_acc: 0.8802\n",
            "Epoch 10/10\n",
            "157/157 [==============================] - 3s 20ms/step - loss: 0.1611 - acc: 0.9420 - val_loss: 0.3105 - val_acc: 0.8804\n"
          ]
        }
      ]
    },
    {
      "cell_type": "code",
      "source": [
        "acc = h3.history['acc']\n",
        "val_acc = h3.history['val_acc']\n",
        "epochs = range(1, len(acc) + 1)\n",
        "plt.title(\"Training/Validation Loss and Accuracy of LSTM\")\n",
        "plt.plot(epochs, acc, 'b', label='Training accuracy')\n",
        "plt.plot(epochs, val_acc, 'r', label='Validation accuracy')\n",
        "plt.legend()\n",
        "plt.show()\n",
        "\n",
        "score = modelLSTM.evaluate(X_test, y_test)\n",
        "print(f'Test loss: {score[0]} / Test accuracy: {score[1]}')"
      ],
      "metadata": {
        "id": "uTEqshOm4kyP",
        "colab": {
          "base_uri": "https://localhost:8080/",
          "height": 317
        },
        "outputId": "03ea20d4-6b19-4d43-cc20-9b31bcad5570"
      },
      "execution_count": null,
      "outputs": [
        {
          "output_type": "display_data",
          "data": {
            "text/plain": [
              "<Figure size 432x288 with 1 Axes>"
            ],
            "image/png": "[encoded data removed]"
          },
          "metadata": {
            "needs_background": "light"
          }
        },
        {
          "output_type": "stream",
          "name": "stdout",
          "text": [
            "782/782 [==============================] - 7s 9ms/step - loss: 0.3317 - acc: 0.8749\n",
            "Test loss: 0.3316880166530609 / Test accuracy: 0.8749200105667114\n"
          ]
        }
      ]
    },
    {
      "cell_type": "markdown",
      "source": [
        "## Problem 2"
      ],
      "metadata": {
        "id": "rVAGEUw_Ogsm"
      }
    },
    {
      "cell_type": "markdown",
      "source": [
        " Learning the output of a sequence of numbers"
      ],
      "metadata": {
        "id": "DFvF8jUa8klC"
      }
    },
    {
      "cell_type": "code",
      "source": [
        "import numpy as np\n",
        "from keras.models import Sequential\n",
        "from keras.layers import Dense, LSTM, Dropout\n",
        "from keras.preprocessing.sequence import pad_sequences\n",
        "from keras.utils import np_utils"
      ],
      "metadata": {
        "id": "VXQkohnZMleo"
      },
      "execution_count": null,
      "outputs": []
    },
    {
      "cell_type": "code",
      "source": [
        "p = 7 #mod\n",
        "n = 10000\n",
        "inputs = []\n",
        "outputs = []\n",
        "\n",
        "def f(x,y):\n",
        "  return (x-y)%p\n",
        "\n",
        "for i in range(n):\n",
        "  x = np.random.randint(0, p)\n",
        "  y = np.random.randint(0, p)\n",
        "  inputs.append([x,y])\n",
        "  outputs.append([f(x,y)])"
      ],
      "metadata": {
        "id": "xqR3QjD1Mm-J"
      },
      "execution_count": null,
      "outputs": []
    },
    {
      "cell_type": "code",
      "source": [
        "X = np.reshape(inputs, (len(inputs), len(inputs[0]), 1))\n",
        "X = X/p # normalize\n",
        "y = np_utils.to_categorical(outputs)\n",
        "\n",
        "model = Sequential()\n",
        "# Note: all LSTM layers except the last must have 'return_sequences=True'\n",
        "model.add(LSTM(64, input_shape=(X.shape[1], 1), return_sequences=True))\n",
        "model.add(LSTM(32, return_sequences=True))\n",
        "model.add(LSTM(16)) # number of neurons, memory unit\n",
        "model.add(Dropout(0.1))\n",
        "model.add(Dense(y.shape[1], activation='softmax'))\n",
        "model.compile(loss='categorical_crossentropy',optimizer='adam',metrics=['acc'])\n",
        "model.summary()\n",
        "\n",
        "history = model.fit(X, y, epochs=20, batch_size=64,\\\n",
        "                    verbose=2, validation_split=0.2)"
      ],
      "metadata": {
        "id": "Nz3VwKwcMpcK",
        "colab": {
          "base_uri": "https://localhost:8080/"
        },
        "outputId": "f469cfc1-4a6e-40b2-97db-0cf861b97df0"
      },
      "execution_count": null,
      "outputs": [
        {
          "output_type": "stream",
          "name": "stdout",
          "text": [
            "Model: \"sequential_2\"\n",
            "_________________________________________________________________\n",
            " Layer (type)                Output Shape              Param #   \n",
            "=================================================================\n",
            " lstm_3 (LSTM)               (None, 2, 64)             16896     \n",
            "                                                                 \n",
            " lstm_4 (LSTM)               (None, 2, 32)             12416     \n",
            "                                                                 \n",
            " lstm_5 (LSTM)               (None, 16)                3136      \n",
            "                                                                 \n",
            " dropout_1 (Dropout)         (None, 16)                0         \n",
            "                                                                 \n",
            " dense_4 (Dense)             (None, 7)                 119       \n",
            "                                                                 \n",
            "=================================================================\n",
            "Total params: 32,567\n",
            "Trainable params: 32,567\n",
            "Non-trainable params: 0\n",
            "_________________________________________________________________\n",
            "Epoch 1/20\n",
            "125/125 - 7s - loss: 1.9460 - acc: 0.1493 - val_loss: 1.9466 - val_acc: 0.1345 - 7s/epoch - 58ms/step\n",
            "Epoch 2/20\n",
            "125/125 - 1s - loss: 1.9458 - acc: 0.1482 - val_loss: 1.9468 - val_acc: 0.1345 - 1s/epoch - 8ms/step\n",
            "Epoch 3/20\n",
            "125/125 - 1s - loss: 1.9458 - acc: 0.1496 - val_loss: 1.9466 - val_acc: 0.1345 - 1s/epoch - 9ms/step\n",
            "Epoch 4/20\n",
            "125/125 - 1s - loss: 1.9458 - acc: 0.1489 - val_loss: 1.9465 - val_acc: 0.1345 - 1000ms/epoch - 8ms/step\n",
            "Epoch 5/20\n",
            "125/125 - 1s - loss: 1.9456 - acc: 0.1511 - val_loss: 1.9465 - val_acc: 0.1345 - 985ms/epoch - 8ms/step\n",
            "Epoch 6/20\n",
            "125/125 - 1s - loss: 1.9424 - acc: 0.1585 - val_loss: 1.9406 - val_acc: 0.1320 - 1s/epoch - 8ms/step\n",
            "Epoch 7/20\n",
            "125/125 - 1s - loss: 1.9018 - acc: 0.1953 - val_loss: 1.8546 - val_acc: 0.2530 - 1s/epoch - 9ms/step\n",
            "Epoch 8/20\n",
            "125/125 - 1s - loss: 1.6738 - acc: 0.3556 - val_loss: 1.2825 - val_acc: 0.5500 - 1s/epoch - 8ms/step\n",
            "Epoch 9/20\n",
            "125/125 - 1s - loss: 0.9528 - acc: 0.7007 - val_loss: 0.6450 - val_acc: 0.8450 - 1s/epoch - 9ms/step\n",
            "Epoch 10/20\n",
            "125/125 - 1s - loss: 0.5340 - acc: 0.8692 - val_loss: 0.3734 - val_acc: 0.9430 - 1s/epoch - 9ms/step\n",
            "Epoch 11/20\n",
            "125/125 - 1s - loss: 0.3448 - acc: 0.9354 - val_loss: 0.2496 - val_acc: 0.9790 - 1s/epoch - 8ms/step\n",
            "Epoch 12/20\n",
            "125/125 - 1s - loss: 0.2434 - acc: 0.9705 - val_loss: 0.1762 - val_acc: 1.0000 - 1s/epoch - 8ms/step\n",
            "Epoch 13/20\n",
            "125/125 - 1s - loss: 0.1823 - acc: 0.9855 - val_loss: 0.1289 - val_acc: 1.0000 - 1s/epoch - 8ms/step\n",
            "Epoch 14/20\n",
            "125/125 - 1s - loss: 0.1402 - acc: 0.9899 - val_loss: 0.0949 - val_acc: 1.0000 - 1s/epoch - 8ms/step\n",
            "Epoch 15/20\n",
            "125/125 - 1s - loss: 0.1087 - acc: 0.9944 - val_loss: 0.0695 - val_acc: 1.0000 - 1s/epoch - 8ms/step\n",
            "Epoch 16/20\n",
            "125/125 - 1s - loss: 0.0849 - acc: 0.9970 - val_loss: 0.0530 - val_acc: 1.0000 - 1s/epoch - 8ms/step\n",
            "Epoch 17/20\n",
            "125/125 - 1s - loss: 0.0725 - acc: 0.9969 - val_loss: 0.0423 - val_acc: 1.0000 - 1s/epoch - 8ms/step\n",
            "Epoch 18/20\n",
            "125/125 - 1s - loss: 0.0607 - acc: 0.9974 - val_loss: 0.0341 - val_acc: 1.0000 - 1s/epoch - 8ms/step\n",
            "Epoch 19/20\n",
            "125/125 - 1s - loss: 0.0494 - acc: 0.9977 - val_loss: 0.0279 - val_acc: 1.0000 - 1s/epoch - 8ms/step\n",
            "Epoch 20/20\n",
            "125/125 - 1s - loss: 0.0452 - acc: 0.9976 - val_loss: 0.0230 - val_acc: 1.0000 - 1s/epoch - 8ms/step\n"
          ]
        }
      ]
    },
    {
      "cell_type": "markdown",
      "source": [
        "**Part 1** <br>\n",
        "Given a sequence of integers (length of at most 5), outputs (x0−x1+x2−· · ·+ (−1)^(k−1)*x_(k−1)) mod p"
      ],
      "metadata": {
        "id": "BP1TKNCr8ok9"
      }
    },
    {
      "cell_type": "code",
      "source": [
        "import numpy as np\n",
        "from keras.models import Sequential\n",
        "from keras.layers import Dense, LSTM, Dropout\n",
        "from keras.preprocessing.sequence import pad_sequences\n",
        "from keras.utils import np_utils"
      ],
      "metadata": {
        "id": "gqyoAyb_HiGq"
      },
      "execution_count": null,
      "outputs": []
    },
    {
      "cell_type": "code",
      "source": [
        "p = 7\n",
        "n = 10000\n",
        "inputs = []\n",
        "outputs = []\n",
        "\n",
        "def f(a, b, c, d, e):\n",
        "  return (a-b+c-d+e)%p\n",
        "\n",
        "for i in range(n):\n",
        "  a = np.random.randint(0, p)\n",
        "  b = np.random.randint(0, p)\n",
        "  c = np.random.randint(0, p)\n",
        "  d = np.random.randint(0, p)\n",
        "  e = np.random.randint(0, p)\n",
        "  inputs.append([a, b, c, d, e])\n",
        "  outputs.append([f(a, b, c, d, e)])"
      ],
      "metadata": {
        "id": "RJCacFuQDKKq"
      },
      "execution_count": null,
      "outputs": []
    },
    {
      "cell_type": "code",
      "source": [
        "X = np.reshape(inputs, (len(inputs), len(inputs[0]), 1))\n",
        "X = X/p # normalize\n",
        "y = np_utils.to_categorical(outputs) #one-hot encoding\n",
        "\n",
        "# should play around to improve underfitting\n",
        "model = Sequential()\n",
        "model.add(LSTM(128, input_shape=(X.shape[1], 1), activation=\"relu\", return_sequences=True))\n",
        "model.add(LSTM(64, return_sequences=True))\n",
        "model.add(LSTM(16)) \n",
        "model.add(Dropout(0.1))\n",
        "model.add(Dense(y.shape[1], activation='softmax'))\n",
        "model.compile(loss='categorical_crossentropy',optimizer='adam',metrics=['acc'])\n",
        "model.summary()\n",
        "\n",
        "H = model.fit(X, y, epochs=30, batch_size=128,\\\n",
        "                    verbose=2, validation_split=0.2)"
      ],
      "metadata": {
        "colab": {
          "base_uri": "https://localhost:8080/"
        },
        "id": "3pdjm3xxHnCd",
        "outputId": "3bcb9a62-11e3-4ced-a410-44ab60920e02"
      },
      "execution_count": null,
      "outputs": [
        {
          "output_type": "stream",
          "name": "stdout",
          "text": [
            "WARNING:tensorflow:Layer lstm_39 will not use cuDNN kernels since it doesn't meet the criteria. It will use a generic GPU kernel as fallback when running on GPU.\n",
            "Model: \"sequential_12\"\n",
            "_________________________________________________________________\n",
            " Layer (type)                Output Shape              Param #   \n",
            "=================================================================\n",
            " lstm_39 (LSTM)              (None, 5, 128)            66560     \n",
            "                                                                 \n",
            " lstm_40 (LSTM)              (None, 5, 64)             49408     \n",
            "                                                                 \n",
            " lstm_41 (LSTM)              (None, 16)                5184      \n",
            "                                                                 \n",
            " dropout_22 (Dropout)        (None, 16)                0         \n",
            "                                                                 \n",
            " dense_12 (Dense)            (None, 7)                 119       \n",
            "                                                                 \n",
            "=================================================================\n",
            "Total params: 121,271\n",
            "Trainable params: 121,271\n",
            "Non-trainable params: 0\n",
            "_________________________________________________________________\n",
            "Epoch 1/30\n",
            "63/63 - 6s - loss: 1.9459 - acc: 0.1399 - val_loss: 1.9467 - val_acc: 0.1420 - 6s/epoch - 97ms/step\n",
            "Epoch 2/30\n",
            "63/63 - 1s - loss: 1.9456 - acc: 0.1505 - val_loss: 1.9468 - val_acc: 0.1420 - 1s/epoch - 17ms/step\n",
            "Epoch 3/30\n",
            "63/63 - 1s - loss: 1.9455 - acc: 0.1534 - val_loss: 1.9468 - val_acc: 0.1420 - 1s/epoch - 17ms/step\n",
            "Epoch 4/30\n",
            "63/63 - 1s - loss: 1.9451 - acc: 0.1540 - val_loss: 1.9473 - val_acc: 0.1420 - 1s/epoch - 17ms/step\n",
            "Epoch 5/30\n",
            "63/63 - 1s - loss: 1.9454 - acc: 0.1470 - val_loss: 1.9472 - val_acc: 0.1420 - 949ms/epoch - 15ms/step\n",
            "Epoch 6/30\n",
            "63/63 - 1s - loss: 1.9451 - acc: 0.1539 - val_loss: 1.9474 - val_acc: 0.1420 - 952ms/epoch - 15ms/step\n",
            "Epoch 7/30\n",
            "63/63 - 1s - loss: 1.9450 - acc: 0.1534 - val_loss: 1.9475 - val_acc: 0.1420 - 953ms/epoch - 15ms/step\n",
            "Epoch 8/30\n",
            "63/63 - 1s - loss: 1.9452 - acc: 0.1545 - val_loss: 1.9475 - val_acc: 0.1420 - 924ms/epoch - 15ms/step\n",
            "Epoch 9/30\n",
            "63/63 - 1s - loss: 1.9453 - acc: 0.1535 - val_loss: 1.9473 - val_acc: 0.1420 - 913ms/epoch - 14ms/step\n",
            "Epoch 10/30\n",
            "63/63 - 1s - loss: 1.9452 - acc: 0.1539 - val_loss: 1.9476 - val_acc: 0.1420 - 1s/epoch - 17ms/step\n",
            "Epoch 11/30\n",
            "63/63 - 1s - loss: 1.9453 - acc: 0.1538 - val_loss: 1.9471 - val_acc: 0.1420 - 916ms/epoch - 15ms/step\n",
            "Epoch 12/30\n",
            "63/63 - 1s - loss: 1.9452 - acc: 0.1548 - val_loss: 1.9477 - val_acc: 0.1420 - 937ms/epoch - 15ms/step\n",
            "Epoch 13/30\n",
            "63/63 - 1s - loss: 1.9452 - acc: 0.1536 - val_loss: 1.9474 - val_acc: 0.1420 - 945ms/epoch - 15ms/step\n",
            "Epoch 14/30\n",
            "63/63 - 1s - loss: 1.9451 - acc: 0.1539 - val_loss: 1.9473 - val_acc: 0.1420 - 941ms/epoch - 15ms/step\n",
            "Epoch 15/30\n",
            "63/63 - 1s - loss: 1.9451 - acc: 0.1539 - val_loss: 1.9474 - val_acc: 0.1420 - 944ms/epoch - 15ms/step\n",
            "Epoch 16/30\n",
            "63/63 - 1s - loss: 1.9451 - acc: 0.1538 - val_loss: 1.9477 - val_acc: 0.1420 - 953ms/epoch - 15ms/step\n",
            "Epoch 17/30\n",
            "63/63 - 1s - loss: 1.9450 - acc: 0.1538 - val_loss: 1.9476 - val_acc: 0.1420 - 961ms/epoch - 15ms/step\n",
            "Epoch 18/30\n",
            "63/63 - 1s - loss: 1.9451 - acc: 0.1539 - val_loss: 1.9475 - val_acc: 0.1420 - 951ms/epoch - 15ms/step\n",
            "Epoch 19/30\n",
            "63/63 - 1s - loss: 1.9452 - acc: 0.1538 - val_loss: 1.9477 - val_acc: 0.1420 - 928ms/epoch - 15ms/step\n",
            "Epoch 20/30\n",
            "63/63 - 1s - loss: 1.9452 - acc: 0.1538 - val_loss: 1.9472 - val_acc: 0.1420 - 947ms/epoch - 15ms/step\n",
            "Epoch 21/30\n",
            "63/63 - 1s - loss: 1.9450 - acc: 0.1538 - val_loss: 1.9475 - val_acc: 0.1420 - 962ms/epoch - 15ms/step\n",
            "Epoch 22/30\n",
            "63/63 - 1s - loss: 1.9451 - acc: 0.1538 - val_loss: 1.9476 - val_acc: 0.1420 - 1s/epoch - 16ms/step\n",
            "Epoch 23/30\n",
            "63/63 - 1s - loss: 1.9451 - acc: 0.1538 - val_loss: 1.9476 - val_acc: 0.1420 - 986ms/epoch - 16ms/step\n",
            "Epoch 24/30\n",
            "63/63 - 1s - loss: 1.9451 - acc: 0.1542 - val_loss: 1.9476 - val_acc: 0.1420 - 949ms/epoch - 15ms/step\n",
            "Epoch 25/30\n",
            "63/63 - 1s - loss: 1.9450 - acc: 0.1539 - val_loss: 1.9476 - val_acc: 0.1420 - 967ms/epoch - 15ms/step\n",
            "Epoch 26/30\n",
            "63/63 - 1s - loss: 1.9451 - acc: 0.1538 - val_loss: 1.9476 - val_acc: 0.1420 - 989ms/epoch - 16ms/step\n",
            "Epoch 27/30\n",
            "63/63 - 1s - loss: 1.9450 - acc: 0.1534 - val_loss: 1.9476 - val_acc: 0.1420 - 969ms/epoch - 15ms/step\n",
            "Epoch 28/30\n",
            "63/63 - 1s - loss: 1.9450 - acc: 0.1538 - val_loss: 1.9476 - val_acc: 0.1420 - 988ms/epoch - 16ms/step\n",
            "Epoch 29/30\n",
            "63/63 - 1s - loss: 1.9452 - acc: 0.1528 - val_loss: 1.9478 - val_acc: 0.1420 - 971ms/epoch - 15ms/step\n",
            "Epoch 30/30\n",
            "63/63 - 1s - loss: 1.9451 - acc: 0.1536 - val_loss: 1.9479 - val_acc: 0.1420 - 975ms/epoch - 15ms/step\n"
          ]
        }
      ]
    },
    {
      "cell_type": "markdown",
      "source": [
        "**Part 2-1** <br>\n",
        "texts: https://www.gutenberg.org/files/1661/1661-0.txt <br>\n",
        "code refering to: https://machinelearningmastery.com/text-generation-lstm-recurrent-neural-networks-python-keras/"
      ],
      "metadata": {
        "id": "obUeu94v9YHs"
      }
    },
    {
      "cell_type": "code",
      "source": [
        "import numpy as np\n",
        "import matplotlib.pyplot as plt\n",
        "from keras.models import Sequential\n",
        "from keras.layers import Dense, LSTM, Dropout, Embedding, Bidirectional\n",
        "from keras.preprocessing.sequence import pad_sequences\n",
        "from keras.utils import np_utils"
      ],
      "metadata": {
        "id": "f6i1cy6ZGLAU"
      },
      "execution_count": null,
      "outputs": []
    },
    {
      "cell_type": "code",
      "source": [
        "import os\n",
        "from google.colab import files\n",
        "# we only include texts between *** START OF THIS PROJECT *** and *** THE END ***\n",
        "filename = files.upload() # gutenberg.txt"
      ],
      "metadata": {
        "colab": {
          "resources": {
            "http://localhost:8080/nbextensions/google.colab/files.js": {
              "data": "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",
              "ok": true,
              "headers": [
                [
                  "content-type",
                  "application/javascript"
                ]
              ],
              "status": 200,
              "status_text": ""
            }
          },
          "base_uri": "https://localhost:8080/",
          "height": 74
        },
        "id": "ExKUouHlNpXz",
        "outputId": "a0e845b4-94d3-4d99-9d07-56dd64d034b7"
      },
      "execution_count": null,
      "outputs": [
        {
          "output_type": "display_data",
          "data": {
            "text/plain": [
              "<IPython.core.display.HTML object>"
            ],
            "text/html": [
              "\n",
              "     <input type=\"file\" id=\"files-758d0321-28dd-435b-87d5-2d67b7c33e65\" name=\"files[]\" multiple disabled\n",
              "        style=\"border:none\" />\n",
              "     <output id=\"result-758d0321-28dd-435b-87d5-2d67b7c33e65\">\n",
              "      Upload widget is only available when the cell has been executed in the\n",
              "      current browser session. Please rerun this cell to enable.\n",
              "      </output>\n",
              "      <script src=\"/nbextensions/google.colab/files.js\"></script> "
            ]
          },
          "metadata": {}
        },
        {
          "output_type": "stream",
          "name": "stdout",
          "text": [
            "Saving gutenberg.txt to gutenberg.txt\n"
          ]
        }
      ]
    },
    {
      "cell_type": "code",
      "source": [
        "# load ascii text and covert to lowercase\n",
        "raw_text = open('gutenberg.txt', 'r', encoding='utf-8').read()\n",
        "raw_text = raw_text.lower()\n",
        "\n",
        "# create mapping of unique chars to integers\n",
        "chars = sorted(list(set(raw_text)))\n",
        "char_to_int = dict((c, i) for i, c in enumerate(chars))\n",
        "\n",
        "print(char_to_int)\n",
        "\n",
        "n_chars = len(raw_text)\n",
        "n_vocab = len(chars)\n",
        "print(\"Total Characters: \", n_chars)\n",
        "print(\"Total Vocab: \", n_vocab) #62 distinct characters in the vocabulary"
      ],
      "metadata": {
        "colab": {
          "base_uri": "https://localhost:8080/"
        },
        "id": "vEGmChW6MIX4",
        "outputId": "4713d41a-290d-4baa-b65a-a40a9f3d8071"
      },
      "execution_count": null,
      "outputs": [
        {
          "output_type": "stream",
          "name": "stdout",
          "text": [
            "{'\\n': 0, ' ': 1, '!': 2, '&': 3, '(': 4, ')': 5, ',': 6, '-': 7, '.': 8, '0': 9, '1': 10, '2': 11, '3': 12, '4': 13, '5': 14, '6': 15, '7': 16, '8': 17, '9': 18, ':': 19, ';': 20, '?': 21, '_': 22, 'a': 23, 'b': 24, 'c': 25, 'd': 26, 'e': 27, 'f': 28, 'g': 29, 'h': 30, 'i': 31, 'j': 32, 'k': 33, 'l': 34, 'm': 35, 'n': 36, 'o': 37, 'p': 38, 'q': 39, 'r': 40, 's': 41, 't': 42, 'u': 43, 'v': 44, 'w': 45, 'x': 46, 'y': 47, 'z': 48, '£': 49, '½': 50, 'à': 51, 'â': 52, 'æ': 53, 'è': 54, 'é': 55, 'œ': 56, '—': 57, '‘': 58, '’': 59, '“': 60, '”': 61}\n",
            "Total Characters:  562208\n",
            "Total Vocab:  62\n"
          ]
        }
      ]
    },
    {
      "cell_type": "code",
      "source": [
        "# prepare the dataset of input to output pairs encoded as integers\n",
        "seq_length = 100\n",
        "dataX = []\n",
        "dataY = []\n",
        "for i in range(0, n_chars - seq_length, 1):\n",
        "\tseq_in = raw_text[i:i + seq_length]\n",
        "\tseq_out = raw_text[i + seq_length]\n",
        "\tdataX.append([char_to_int[char] for char in seq_in])\n",
        "\tdataY.append(char_to_int[seq_out])\n",
        "n_patterns = len(dataX)\n",
        "print(\"Total Patterns: \", n_patterns)\n",
        "\n",
        "# excluding the last 100 characters\n",
        "# one training pattern to predict each of the remaining characters."
      ],
      "metadata": {
        "colab": {
          "base_uri": "https://localhost:8080/"
        },
        "id": "oAqZdFkqPjju",
        "outputId": "03e579b1-1311-4184-efcb-1e0dc4ddd42a"
      },
      "execution_count": null,
      "outputs": [
        {
          "output_type": "stream",
          "name": "stdout",
          "text": [
            "Total Patterns:  562108\n"
          ]
        }
      ]
    },
    {
      "cell_type": "code",
      "source": [
        "# reshape X to be [samples, time steps, features] expected by LSTM network\n",
        "X = np.reshape(dataX, (n_patterns, seq_length, 1))\n",
        "# normalize\n",
        "X = X/float(n_vocab)\n",
        "# one hot encode the output variable\n",
        "y = np_utils.to_categorical(dataY)"
      ],
      "metadata": {
        "id": "E2yYGDZoT9xu"
      },
      "execution_count": null,
      "outputs": []
    },
    {
      "cell_type": "code",
      "source": [
        "# define and train the LSTM model\n",
        "# The CUDNN LSTM acceleration only works if the activation is tanh\n",
        "model = Sequential()\n",
        "model.add(LSTM(256, input_shape=(X.shape[1], X.shape[2])))\n",
        "model.add(Dropout(0.2))\n",
        "#model.add(Bidirectional(LSTM(64))) too slow to see the result\n",
        "model.add(Dense(y.shape[1], activation='softmax'))\n",
        "model.compile(loss='categorical_crossentropy', optimizer='adam', metrics=['acc'])\n",
        "\n",
        "model.summary()\n",
        "H = model.fit(X, y, epochs=30, batch_size=128, verbose=2, validation_split=0.2)"
      ],
      "metadata": {
        "colab": {
          "base_uri": "https://localhost:8080/"
        },
        "id": "4vd2AYbFUnwm",
        "outputId": "feaf71fd-e7a1-4ccc-b59c-7645b9a94941"
      },
      "execution_count": null,
      "outputs": [
        {
          "output_type": "stream",
          "name": "stdout",
          "text": [
            "Model: \"sequential_6\"\n",
            "_________________________________________________________________\n",
            " Layer (type)                Output Shape              Param #   \n",
            "=================================================================\n",
            " lstm_9 (LSTM)               (None, 256)               264192    \n",
            "                                                                 \n",
            " dropout_6 (Dropout)         (None, 256)               0         \n",
            "                                                                 \n",
            " dense_6 (Dense)             (None, 62)                15934     \n",
            "                                                                 \n",
            "=================================================================\n",
            "Total params: 280,126\n",
            "Trainable params: 280,126\n",
            "Non-trainable params: 0\n",
            "_________________________________________________________________\n",
            "Epoch 1/30\n",
            "3514/3514 - 132s - loss: 2.8689 - acc: 0.2031 - val_loss: 2.7232 - val_acc: 0.2344 - 132s/epoch - 37ms/step\n",
            "Epoch 2/30\n",
            "3514/3514 - 131s - loss: 2.6994 - acc: 0.2405 - val_loss: 2.6300 - val_acc: 0.2511 - 131s/epoch - 37ms/step\n",
            "Epoch 3/30\n",
            "3514/3514 - 138s - loss: 2.6092 - acc: 0.2599 - val_loss: 2.5294 - val_acc: 0.2763 - 138s/epoch - 39ms/step\n",
            "Epoch 4/30\n",
            "3514/3514 - 128s - loss: 2.5295 - acc: 0.2793 - val_loss: 2.4542 - val_acc: 0.2980 - 128s/epoch - 37ms/step\n",
            "Epoch 5/30\n",
            "3514/3514 - 137s - loss: 2.4579 - acc: 0.2988 - val_loss: 2.3925 - val_acc: 0.3154 - 137s/epoch - 39ms/step\n",
            "Epoch 6/30\n",
            "3514/3514 - 128s - loss: 2.3980 - acc: 0.3139 - val_loss: 2.3444 - val_acc: 0.3284 - 128s/epoch - 36ms/step\n",
            "Epoch 7/30\n",
            "3514/3514 - 128s - loss: 2.3447 - acc: 0.3277 - val_loss: 2.2950 - val_acc: 0.3384 - 128s/epoch - 37ms/step\n",
            "Epoch 8/30\n",
            "3514/3514 - 130s - loss: 2.2993 - acc: 0.3390 - val_loss: 2.2665 - val_acc: 0.3476 - 130s/epoch - 37ms/step\n",
            "Epoch 9/30\n",
            "3514/3514 - 138s - loss: 2.2600 - acc: 0.3494 - val_loss: 2.2371 - val_acc: 0.3539 - 138s/epoch - 39ms/step\n",
            "Epoch 10/30\n",
            "3514/3514 - 129s - loss: 2.2259 - acc: 0.3578 - val_loss: 2.2151 - val_acc: 0.3602 - 129s/epoch - 37ms/step\n",
            "Epoch 11/30\n",
            "3514/3514 - 129s - loss: 2.1972 - acc: 0.3662 - val_loss: 2.2044 - val_acc: 0.3642 - 129s/epoch - 37ms/step\n",
            "Epoch 12/30\n",
            "3514/3514 - 129s - loss: 2.1693 - acc: 0.3726 - val_loss: 2.1892 - val_acc: 0.3680 - 129s/epoch - 37ms/step\n",
            "Epoch 13/30\n",
            "3514/3514 - 129s - loss: 2.1447 - acc: 0.3794 - val_loss: 2.1793 - val_acc: 0.3724 - 129s/epoch - 37ms/step\n",
            "Epoch 14/30\n",
            "3514/3514 - 138s - loss: 2.1234 - acc: 0.3848 - val_loss: 2.1763 - val_acc: 0.3727 - 138s/epoch - 39ms/step\n",
            "Epoch 15/30\n",
            "3514/3514 - 129s - loss: 2.1028 - acc: 0.3898 - val_loss: 2.1634 - val_acc: 0.3771 - 129s/epoch - 37ms/step\n",
            "Epoch 16/30\n",
            "3514/3514 - 129s - loss: 2.0847 - acc: 0.3951 - val_loss: 2.1670 - val_acc: 0.3758 - 129s/epoch - 37ms/step\n",
            "Epoch 17/30\n",
            "3514/3514 - 129s - loss: 2.0692 - acc: 0.3993 - val_loss: 2.1602 - val_acc: 0.3777 - 129s/epoch - 37ms/step\n",
            "Epoch 18/30\n",
            "3514/3514 - 129s - loss: 2.0523 - acc: 0.4034 - val_loss: 2.1629 - val_acc: 0.3777 - 129s/epoch - 37ms/step\n",
            "Epoch 19/30\n",
            "3514/3514 - 129s - loss: 2.0384 - acc: 0.4060 - val_loss: 2.1528 - val_acc: 0.3818 - 129s/epoch - 37ms/step\n",
            "Epoch 20/30\n",
            "3514/3514 - 129s - loss: 2.0270 - acc: 0.4101 - val_loss: 2.1591 - val_acc: 0.3788 - 129s/epoch - 37ms/step\n",
            "Epoch 21/30\n",
            "3514/3514 - 138s - loss: 2.0136 - acc: 0.4128 - val_loss: 2.1515 - val_acc: 0.3816 - 138s/epoch - 39ms/step\n",
            "Epoch 22/30\n",
            "3514/3514 - 128s - loss: 2.0017 - acc: 0.4161 - val_loss: 2.1538 - val_acc: 0.3808 - 128s/epoch - 36ms/step\n",
            "Epoch 23/30\n",
            "3514/3514 - 128s - loss: 1.9920 - acc: 0.4189 - val_loss: 2.1539 - val_acc: 0.3806 - 128s/epoch - 36ms/step\n",
            "Epoch 24/30\n",
            "3514/3514 - 128s - loss: 1.9805 - acc: 0.4216 - val_loss: 2.1529 - val_acc: 0.3815 - 128s/epoch - 37ms/step\n",
            "Epoch 25/30\n",
            "3514/3514 - 128s - loss: 1.9721 - acc: 0.4240 - val_loss: 2.1532 - val_acc: 0.3820 - 128s/epoch - 37ms/step\n",
            "Epoch 26/30\n",
            "3514/3514 - 128s - loss: 1.9638 - acc: 0.4256 - val_loss: 2.1483 - val_acc: 0.3832 - 128s/epoch - 36ms/step\n",
            "Epoch 27/30\n",
            "3514/3514 - 128s - loss: 1.9559 - acc: 0.4275 - val_loss: 2.1584 - val_acc: 0.3829 - 128s/epoch - 37ms/step\n",
            "Epoch 28/30\n",
            "3514/3514 - 138s - loss: 1.9484 - acc: 0.4296 - val_loss: 2.1625 - val_acc: 0.3810 - 138s/epoch - 39ms/step\n",
            "Epoch 29/30\n",
            "3514/3514 - 128s - loss: 1.9401 - acc: 0.4322 - val_loss: 2.1536 - val_acc: 0.3828 - 128s/epoch - 36ms/step\n",
            "Epoch 30/30\n",
            "3514/3514 - 128s - loss: 1.9338 - acc: 0.4332 - val_loss: 2.1548 - val_acc: 0.3799 - 128s/epoch - 36ms/step\n"
          ]
        }
      ]
    },
    {
      "cell_type": "code",
      "source": [
        "plt.figure()\n",
        "plt.plot(H.history[\"loss\"], label=\"train_loss\")\n",
        "plt.plot(H.history[\"val_loss\"], label=\"val_loss\")\n",
        "plt.plot(H.history[\"acc\"], label=\"train_acc\")\n",
        "plt.plot(H.history[\"val_acc\"], label=\"val_acc\")\n",
        "plt.title(\"Training/Validation Loss and Accuracy of LSTM\")\n",
        "plt.xlabel(\"Epoch #\")\n",
        "plt.ylabel(\"Loss/Accuracy\")\n",
        "plt.legend()"
      ],
      "metadata": {
        "colab": {
          "base_uri": "https://localhost:8080/",
          "height": 313
        },
        "id": "LJdLB-llGLAP",
        "outputId": "398aaddd-1eef-49cf-aa12-bcfc222b40a9"
      },
      "execution_count": null,
      "outputs": [
        {
          "output_type": "execute_result",
          "data": {
            "text/plain": [
              "<matplotlib.legend.Legend at 0x7fad580c5d10>"
            ]
          },
          "metadata": {},
          "execution_count": 40
        },
        {
          "output_type": "display_data",
          "data": {
            "text/plain": [
              "<Figure size 432x288 with 1 Axes>"
            ],
            "image/png": "[encoded data removed]"
          },
          "metadata": {
            "needs_background": "light"
          }
        }
      ]
    },
    {
      "cell_type": "markdown",
      "source": [
        "**Part 2-2** <br>\n",
        "Use the trained model to generate text as follows <br>\n",
        "Note: the model is underfitting"
      ],
      "metadata": {
        "id": "D2-lsUdo8SHm"
      }
    },
    {
      "cell_type": "code",
      "source": [
        "# create a reverse mapping\n",
        "import sys\n",
        "int_to_char = dict((i, c) for i, c in enumerate(chars))"
      ],
      "metadata": {
        "id": "_gpP3U-jMcSL"
      },
      "execution_count": null,
      "outputs": []
    },
    {
      "cell_type": "code",
      "source": [
        "# pick a random seed sequence\n",
        "start = np.random.randint(0, len(dataX)-1)\n",
        "pattern = dataX[start]\n",
        "print(\"Seed:\")\n",
        "print(\"\\\"\", ''.join([int_to_char[value] for value in pattern]), \"\\\"\")\n",
        "# generate characters\n",
        "for i in range(1000):\n",
        "\tx = np.reshape(pattern, (1, len(pattern), 1))\n",
        "\tx = x / float(n_vocab)\n",
        "\tprediction = model.predict(x, verbose=0)\n",
        "\tindex = np.argmax(prediction)\n",
        "\tresult = int_to_char[index]\n",
        "\tseq_in = [int_to_char[value] for value in pattern]\n",
        "\tsys.stdout.write(result)\n",
        "\tpattern.append(index)\n",
        "\tpattern = pattern[1:len(pattern)]\n",
        "print(\"\\n\\nGenerating Texts Done.\")"
      ],
      "metadata": {
        "colab": {
          "base_uri": "https://localhost:8080/"
        },
        "id": "CCWFlx9ENK0A",
        "outputId": "136b1833-69c2-476e-f832-acb89baa37b4"
      },
      "execution_count": null,
      "outputs": [
        {
          "output_type": "stream",
          "name": "stdout",
          "text": [
            "Seed:\n",
            "\" rd, came out of the room and closed the door tightly behind him.\n",
            "\n",
            "“i’ve got him here,” he whispered, \"\n",
            " “i shall see the serert of the same toeer that toee to tee hor to the sore. i shall be a saare of toeee in the same toeer the semelts bnoe that ie wou wal soeee to be in the sace in the same toeer that ie it iad seee an anseoution oo the same aod the saale of the same aos of the same coering oo the same ald the sooe that the same had been seened to hev that the same had been seened to hev that the same had been seened to hev that the same had been so besieie tha some to ae a saate and tooe tearen of the same coorenion of the same aod a saale of the same clarer of the semelts of the same ald the sooe that the same had been seened to hev that the same had been seened to hev that the same had been seened to hev that the same had been so besieie tha some to ae a saate and tooe tearen of the same coorenion of the same aod a saale of the same clarer of the semelts of the same ald the sooe that the same had been seened to hev that the same had been seened to hev that the same had been seened\n",
            "\n",
            "Generating Texts Done.\n"
          ]
        }
      ]
    },
    {
      "cell_type": "markdown",
      "source": [
        "## Problem 3"
      ],
      "metadata": {
        "id": "A2U2Fo7AOhd_"
      }
    },
    {
      "cell_type": "markdown",
      "source": [
        "Given:\n",
        "- 10000 strings of 4000 bits, where each 4 bits encodes a character (from A to Z + space)\n",
        "- labels with the strings indicating whether they contain the substring or not\n",
        "- we know the substring is always 3 letters\n",
        "\n",
        "Based off the characters that occured in the past or in the future, this helps to predict the next char --> therefore we can consider using the transformer to predict the probability of obtaining a certain character instead of words.<br>\n",
        "\n",
        "We need to learn a classifier that will predict whether a substring (a 12 bit sequence) exists in the string of 4000 bits.\n",
        "\n",
        "We can use a tranformer in order to create a context dependent learning where the character portions of the string that contain the agency substring with highest probability before or after the occurance of certain chars can have the highest attention in the learning rather than moving through the string sequence in order of beginning to end and storing the long string sequences."
      ],
      "metadata": {
        "id": "aJ3_79H1DxsU"
      }
    },
    {
      "cell_type": "markdown",
      "source": [
        "## Problem 4 & 5\n",
        "finsiehd <br>\n",
        "https://blog.keras.io/building-autoencoders-in-keras.html"
      ],
      "metadata": {
        "id": "KcyZwotqOjw8"
      }
    },
    {
      "cell_type": "markdown",
      "source": [
        "## Problem 6"
      ],
      "metadata": {
        "id": "1oz5bOWCOmk3"
      }
    },
    {
      "cell_type": "markdown",
      "source": [
        "Each black pixel in the displayed image represents a 0 and each white pixel represents a 1. <br>\n",
        "Design and train a model which takes such an array as input and outputs an estimate of the\n",
        "radius of the circle. <br>\n",
        "https://stanford.edu/~shervine/teaching/cs-230/cheatsheet-convolutional-neural-networks"
      ],
      "metadata": {
        "id": "APVmJFQXczas"
      }
    },
    {
      "cell_type": "code",
      "source": [
        "import cv2\n",
        "import numpy as np\n",
        "import matplotlib.pyplot as plt\n",
        "N = 128\n",
        "def circle(x, y, r):\n",
        "  x = int(x*N)\n",
        "  y = int((1-y)*N)\n",
        "  r = int(r*N)\n",
        "  image = np.zeros(shape=[N, N], dtype=np.uint8) # image: on which circle is to be drawn\n",
        "  cv2.circle(image, center=(x, y), radius=r, color=1, thickness=2)\n",
        "  return image\n",
        "plt.gca().set_axis_off()\n",
        "image = circle(0.2, 0.7, 0.4) # return a N*N \n",
        "plt.imshow(image, cmap='gray')"
      ],
      "metadata": {
        "colab": {
          "base_uri": "https://localhost:8080/",
          "height": 266
        },
        "id": "10qzUbdtDJRJ",
        "outputId": "b911eab0-6fe3-4bcd-eb3d-0ad335b4c214"
      },
      "execution_count": null,
      "outputs": [
        {
          "output_type": "execute_result",
          "data": {
            "text/plain": [
              "<matplotlib.image.AxesImage at 0x7f55f0794a90>"
            ]
          },
          "metadata": {},
          "execution_count": 2
        },
        {
          "output_type": "display_data",
          "data": {
            "text/plain": [
              "<Figure size 432x288 with 1 Axes>"
            ],
            "image/png": "[encoded data removed]"
          },
          "metadata": {
            "needs_background": "light"
          }
        }
      ]
    },
    {
      "cell_type": "code",
      "source": [
        "import numpy as np\n",
        "from keras.models import Sequential\n",
        "from keras.layers import Dense, LSTM, Dropout, Flatten, Embedding, SimpleRNN, GRU, Conv2D, MaxPooling2D\n",
        "from keras import regularizers\n",
        "from keras.preprocessing.sequence import pad_sequences\n",
        "from keras.utils import np_utils"
      ],
      "metadata": {
        "id": "2lO3WMieeOU3"
      },
      "execution_count": null,
      "outputs": []
    },
    {
      "cell_type": "code",
      "source": [
        "# define X and y\n",
        "n = 10000 # number of images for training\n",
        "\n",
        "inputs = [] # an array of N*N image\n",
        "outputs = []\n",
        "\n",
        "for i in range(n):\n",
        "  Xx = np.random.random()\n",
        "  Xy = np.random.random()\n",
        "  r = np.random.random()\n",
        "  inputs.append(np.array(circle(Xx, Xy, r)))\n",
        "  outputs.append(int(r*N))\n",
        "\n",
        "#X = np.array(inputs)\n",
        "X = np.reshape(inputs, (len(inputs), len(inputs[0]), 128, 1)) # reshape to 3D\n",
        "#plt.imshow(inputs[0], cmap='gray')\n",
        "y = np_utils.to_categorical(outputs) #one-hot encoding\n",
        "image_shape = (128,128,1)"
      ],
      "metadata": {
        "id": "rBrMlrbXGTpH"
      },
      "execution_count": null,
      "outputs": []
    },
    {
      "cell_type": "code",
      "source": [
        "# define and train the CNN model\n",
        "model = Sequential()\n",
        "model.add(Conv2D(16, kernel_size = (1,1), strides=(1,1), activation=\"relu\", input_shape=image_shape))\n",
        "#model.add(Conv2D(32, kernel_size = (1,1), activation=\"relu\"))\n",
        "model.add(MaxPooling2D(pool_size=(2,2)))\n",
        "model.add(Dropout(0.35))\n",
        "model.add(Flatten())\n",
        "model.add(Dense(y.shape[1], activation='softmax'))\n",
        "model.compile(loss='categorical_crossentropy', optimizer='adam', metrics=['acc'])\n",
        "\n",
        "model.summary()\n",
        "H = model.fit(X, y, epochs=10, batch_size=32, verbose=2, validation_split = 0.2)"
      ],
      "metadata": {
        "colab": {
          "base_uri": "https://localhost:8080/"
        },
        "id": "bC3Rrl4vg0ou",
        "outputId": "34353c1d-f87c-4604-b5f4-c96fc2592676"
      },
      "execution_count": null,
      "outputs": [
        {
          "output_type": "stream",
          "name": "stdout",
          "text": [
            "Model: \"sequential_2\"\n",
            "_________________________________________________________________\n",
            " Layer (type)                Output Shape              Param #   \n",
            "=================================================================\n",
            " conv2d_2 (Conv2D)           (None, 128, 128, 16)      32        \n",
            "                                                                 \n",
            " max_pooling2d_2 (MaxPooling  (None, 64, 64, 16)       0         \n",
            " 2D)                                                             \n",
            "                                                                 \n",
            " dropout_2 (Dropout)         (None, 64, 64, 16)        0         \n",
            "                                                                 \n",
            " flatten_2 (Flatten)         (None, 65536)             0         \n",
            "                                                                 \n",
            " dense_2 (Dense)             (None, 128)               8388736   \n",
            "                                                                 \n",
            "=================================================================\n",
            "Total params: 8,388,768\n",
            "Trainable params: 8,388,768\n",
            "Non-trainable params: 0\n",
            "_________________________________________________________________\n",
            "Epoch 1/10\n",
            "250/250 - 5s - loss: 4.8818 - acc: 0.0220 - val_loss: 4.7249 - val_acc: 0.0195 - 5s/epoch - 20ms/step\n",
            "Epoch 2/10\n",
            "250/250 - 4s - loss: 3.1522 - acc: 0.2931 - val_loss: 5.7618 - val_acc: 0.0250 - 4s/epoch - 17ms/step\n",
            "Epoch 3/10\n",
            "250/250 - 4s - loss: 1.7564 - acc: 0.5558 - val_loss: 7.5962 - val_acc: 0.0345 - 4s/epoch - 17ms/step\n",
            "Epoch 4/10\n",
            "250/250 - 4s - loss: 0.9425 - acc: 0.7729 - val_loss: 9.0963 - val_acc: 0.0350 - 4s/epoch - 17ms/step\n",
            "Epoch 5/10\n",
            "250/250 - 4s - loss: 0.6474 - acc: 0.8514 - val_loss: 10.2144 - val_acc: 0.0385 - 4s/epoch - 17ms/step\n",
            "Epoch 6/10\n",
            "250/250 - 4s - loss: 0.4856 - acc: 0.8860 - val_loss: 11.0079 - val_acc: 0.0495 - 4s/epoch - 16ms/step\n",
            "Epoch 7/10\n",
            "250/250 - 4s - loss: 0.3825 - acc: 0.8981 - val_loss: 11.7930 - val_acc: 0.0445 - 4s/epoch - 17ms/step\n",
            "Epoch 8/10\n",
            "250/250 - 4s - loss: 0.3181 - acc: 0.9161 - val_loss: 12.4628 - val_acc: 0.0495 - 4s/epoch - 16ms/step\n",
            "Epoch 9/10\n",
            "250/250 - 4s - loss: 0.2971 - acc: 0.9205 - val_loss: 13.0546 - val_acc: 0.0480 - 4s/epoch - 16ms/step\n",
            "Epoch 10/10\n",
            "250/250 - 4s - loss: 0.2675 - acc: 0.9260 - val_loss: 13.7108 - val_acc: 0.0445 - 4s/epoch - 17ms/step\n"
          ]
        }
      ]
    },
    {
      "cell_type": "code",
      "source": [
        "plt.figure()\n",
        "plt.plot(H.history[\"loss\"], label=\"train_loss\")\n",
        "plt.plot(H.history[\"val_loss\"], label=\"val_loss\")\n",
        "plt.plot(H.history[\"acc\"], label=\"train_acc\")\n",
        "plt.plot(H.history[\"val_acc\"], label=\"val_acc\")\n",
        "plt.title(\"Training/Validation Loss and Accuracy of CNN\")\n",
        "plt.xlabel(\"Epoch #\")\n",
        "plt.ylabel(\"Loss/Accuracy\")\n",
        "plt.legend()"
      ],
      "metadata": {
        "colab": {
          "base_uri": "https://localhost:8080/",
          "height": 313
        },
        "id": "DHvYoCQl2LS6",
        "outputId": "ee053615-cf94-4756-a747-37575872440b"
      },
      "execution_count": null,
      "outputs": [
        {
          "output_type": "execute_result",
          "data": {
            "text/plain": [
              "<matplotlib.legend.Legend at 0x7f555e9fe1d0>"
            ]
          },
          "metadata": {},
          "execution_count": 7
        },
        {
          "output_type": "display_data",
          "data": {
            "text/plain": [
              "<Figure size 432x288 with 1 Axes>"
            ],
            "image/png": "[encoded data removed]"
          },
          "metadata": {
            "needs_background": "light"
          }
        }
      ]
    }
  ]
}